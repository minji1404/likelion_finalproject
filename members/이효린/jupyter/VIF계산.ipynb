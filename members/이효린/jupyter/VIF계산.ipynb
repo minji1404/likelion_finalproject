{
 "cells": [
  {
   "cell_type": "code",
   "execution_count": 5,
   "id": "1cf4cdcd-72e2-48d8-bce7-e293a65af533",
   "metadata": {},
   "outputs": [
    {
     "name": "stdout",
     "output_type": "stream",
     "text": [
      "VIF 10 이하 변수 목록:\n",
      "           변수       VIF\n",
      "5  이용카드수_신용체크  9.887212\n",
      "8  _1순위카드이용건수  2.837908\n"
     ]
    }
   ],
   "source": [
    "import pandas as pd\n",
    "import statsmodels.api as sm\n",
    "from statsmodels.stats.outliers_influence import variance_inflation_factor\n",
    "\n",
    "# 1. CSV 파일 불러오기\n",
    "df = pd.read_csv(\"segment_회원정보_상관계수_0.3이상.csv\")\n",
    "\n",
    "# 2. 종속변수(Segment) 제거하고 독립변수만 선택\n",
    "X = df.drop(columns=['Segment'])\n",
    "\n",
    "# 3. 상수항 추가 (절편)\n",
    "X_const = sm.add_constant(X)\n",
    "\n",
    "# 4. VIF 계산\n",
    "vif_df = pd.DataFrame()\n",
    "vif_df['변수'] = X_const.columns\n",
    "vif_df['VIF'] = [variance_inflation_factor(X_const.values, i) for i in range(X_const.shape[1])]\n",
    "\n",
    "# 5. VIF 10 이하인 변수만 필터링 (const 제외 가능)\n",
    "vif_filtered = vif_df[vif_df['VIF'] <= 10].copy()\n",
    "\n",
    "# const 제외하고 변수 이름만 추출\n",
    "selected_columns = vif_filtered['변수'][vif_filtered['변수'] != 'const']\n",
    "\n",
    "# 6. 원래 데이터에서 선택된 변수만 남김 (Segment도 제외)\n",
    "filtered_df = df[selected_columns.tolist()]\n",
    "\n",
    "# 7. 저장\n",
    "filtered_df.to_csv(\"segment_회원정보VIF10이하_OnlyX.csv\", index=False)\n",
    "\n",
    "# 8. 결과 출력\n",
    "print(\"VIF 10 이하 변수 목록:\")\n",
    "print(vif_filtered)\n"
   ]
  },
  {
   "cell_type": "code",
   "execution_count": null,
   "id": "4fdaf73c-2621-4be4-88a7-930b936d39dc",
   "metadata": {},
   "outputs": [],
   "source": []
  }
 ],
 "metadata": {
  "kernelspec": {
   "display_name": "Python [conda env:base] *",
   "language": "python",
   "name": "conda-base-py"
  },
  "language_info": {
   "codemirror_mode": {
    "name": "ipython",
    "version": 3
   },
   "file_extension": ".py",
   "mimetype": "text/x-python",
   "name": "python",
   "nbconvert_exporter": "python",
   "pygments_lexer": "ipython3",
   "version": "3.12.7"
  }
 },
 "nbformat": 4,
 "nbformat_minor": 5
}
